{
  "nbformat": 4,
  "nbformat_minor": 0,
  "metadata": {
    "colab": {
      "name": "PDF file rename based on PDF titles",
      "provenance": [],
      "collapsed_sections": []
    },
    "kernelspec": {
      "name": "python3",
      "display_name": "Python 3"
    },
    "language_info": {
      "name": "python"
    }
  },
  "cells": [
    {
      "cell_type": "code",
      "execution_count": null,
      "metadata": {
        "id": "DUyA7qFfXiVe"
      },
      "outputs": [],
      "source": [
        "import fitz\n",
        "import os"
      ]
    },
    {
      "cell_type": "code",
      "source": [
        "for root_dir, cur_dir, files in os.walk(\"your path\"):\n",
        "  for name in files:\n",
        "    file_path = os.path.join(root_dir,name)\n",
        "    print(file_path)\n",
        "    pdf = fitz.open(file_path)\n",
        "    metadata = pdf.metadata\n",
        "    title = metadata[\"title\"]\n",
        "    title = str(title)\n",
        "    print(metadata)\n",
        "    if title == \"\":\n",
        "      pass\n",
        "    else:\n",
        "      if \":\" in title:\n",
        "        pass\n",
        "      else:\n",
        "        new_file_path = os.path.join(root_dir,title+\".pdf\")\n",
        "        if os.path.exists(new_file_path):\n",
        "          pass\n",
        "        else:\n",
        "          pdf.close()\n",
        "          os.rename(file_path,new_file_path)\n",
        "    "
      ],
      "metadata": {
        "id": "zeJTHRgyeoHT"
      },
      "execution_count": null,
      "outputs": []
    },
    {
      "cell_type": "code",
      "source": [
        ""
      ],
      "metadata": {
        "id": "lEg61zoWjXw6"
      },
      "execution_count": null,
      "outputs": []
    }
  ]
}